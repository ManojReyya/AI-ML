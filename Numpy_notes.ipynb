{
  "cells": [
    {
      "cell_type": "markdown",
      "metadata": {
        "id": "YiRIsOKrQSW9"
      },
      "source": [
        "#Numpy-Numerical python"
      ]
    },
    {
      "cell_type": "code",
      "execution_count": null,
      "metadata": {
        "id": "XJUPdIANP-tr"
      },
      "outputs": [],
      "source": [
        "import numpy as np"
      ]
    },
    {
      "cell_type": "code",
      "execution_count": null,
      "metadata": {
        "colab": {
          "base_uri": "https://localhost:8080/"
        },
        "id": "pdgt83UpQnO-",
        "outputId": "a9e8e472-9a1b-4826-b58e-4dd2e82bdc87"
      },
      "outputs": [
        {
          "data": {
            "text/plain": [
              "array([12, 49, 28, 39])"
            ]
          },
          "execution_count": 2,
          "metadata": {},
          "output_type": "execute_result"
        }
      ],
      "source": [
        "#create an array using numpy\n",
        "a=np.array([12,49,28,39])\n",
        "a"
      ]
    },
    {
      "cell_type": "code",
      "execution_count": null,
      "metadata": {
        "colab": {
          "base_uri": "https://localhost:8080/"
        },
        "id": "m1d3E7e7QtrQ",
        "outputId": "8c1fe803-2f6e-4622-851f-138d326078a7"
      },
      "outputs": [
        {
          "data": {
            "text/plain": [
              "1"
            ]
          },
          "execution_count": 3,
          "metadata": {},
          "output_type": "execute_result"
        }
      ],
      "source": [
        "#checking dimension of an array\n",
        "a.ndim"
      ]
    },
    {
      "cell_type": "code",
      "execution_count": null,
      "metadata": {
        "colab": {
          "base_uri": "https://localhost:8080/"
        },
        "id": "uun82kQrRBmL",
        "outputId": "9ae57367-2839-4d19-97b1-07312eee3592"
      },
      "outputs": [
        {
          "data": {
            "text/plain": [
              "array([[1, 0, 2],\n",
              "       [3, 5, 7]])"
            ]
          },
          "execution_count": 5,
          "metadata": {},
          "output_type": "execute_result"
        }
      ],
      "source": [
        "#creating two dimension array with numpy\n",
        "b=np.array([[1,0,2],[3,5,7]])\n",
        "b"
      ]
    },
    {
      "cell_type": "code",
      "execution_count": null,
      "metadata": {
        "colab": {
          "base_uri": "https://localhost:8080/"
        },
        "id": "EGEACFGSRZtu",
        "outputId": "1ed1c8c2-ef1a-40d5-f8b7-7dbf26a88fe8"
      },
      "outputs": [
        {
          "data": {
            "text/plain": [
              "2"
            ]
          },
          "execution_count": 6,
          "metadata": {},
          "output_type": "execute_result"
        }
      ],
      "source": [
        "b.ndim"
      ]
    },
    {
      "cell_type": "code",
      "execution_count": null,
      "metadata": {
        "colab": {
          "base_uri": "https://localhost:8080/"
        },
        "id": "j6cET85uRtKq",
        "outputId": "70602381-64e4-49cc-bc7a-b6a2a43b757f"
      },
      "outputs": [
        {
          "data": {
            "text/plain": [
              "3"
            ]
          },
          "execution_count": 8,
          "metadata": {},
          "output_type": "execute_result"
        }
      ],
      "source": [
        "# 3D array\n",
        "c=np.array([[[1,2],[3,6],[9,0]]])\n",
        "c\n",
        "c.ndim"
      ]
    },
    {
      "cell_type": "markdown",
      "metadata": {
        "id": "M3EreqOLSce_"
      },
      "source": [
        "##Zero's and One's"
      ]
    },
    {
      "cell_type": "code",
      "execution_count": null,
      "metadata": {
        "colab": {
          "base_uri": "https://localhost:8080/"
        },
        "id": "vuFvX3oJR_No",
        "outputId": "273efed7-bf6f-4f4d-9010-016ca033ea57"
      },
      "outputs": [
        {
          "name": "stdout",
          "output_type": "stream",
          "text": [
            "[0. 0. 0. 0. 0.]\n"
          ]
        },
        {
          "data": {
            "text/plain": [
              "1"
            ]
          },
          "execution_count": 11,
          "metadata": {},
          "output_type": "execute_result"
        }
      ],
      "source": [
        "# creating array with full zeros and ones\n",
        "x=np.zeros(5)\n",
        "print(x)\n",
        "x.ndim"
      ]
    },
    {
      "cell_type": "code",
      "execution_count": null,
      "metadata": {
        "colab": {
          "base_uri": "https://localhost:8080/"
        },
        "id": "R5NnEF3vSyRw",
        "outputId": "e9de5cf8-4ddb-4fc3-a12d-411728534ec0"
      },
      "outputs": [
        {
          "data": {
            "text/plain": [
              "array([1., 1., 1., 1., 1., 1.])"
            ]
          },
          "execution_count": 13,
          "metadata": {},
          "output_type": "execute_result"
        }
      ],
      "source": [
        "y=np.ones(6)\n",
        "y"
      ]
    },
    {
      "cell_type": "code",
      "execution_count": null,
      "metadata": {
        "colab": {
          "base_uri": "https://localhost:8080/"
        },
        "id": "0jiIOgDNTeTC",
        "outputId": "93e8abf2-4c62-428f-9d28-e8e8fc36fc29"
      },
      "outputs": [
        {
          "data": {
            "text/plain": [
              "array([[[[1., 1., 1., 1., 1.]],\n",
              "\n",
              "        [[1., 1., 1., 1., 1.]],\n",
              "\n",
              "        [[1., 1., 1., 1., 1.]],\n",
              "\n",
              "        [[1., 1., 1., 1., 1.]]]])"
            ]
          },
          "execution_count": 18,
          "metadata": {},
          "output_type": "execute_result"
        }
      ],
      "source": [
        "#create a 3D array with 4 rows and 5 columns & all the elements should be 1\n",
        "z=np.ones(5)\n",
        "a=np.array([[[z],[z],[z],[z]]])\n",
        "a"
      ]
    },
    {
      "cell_type": "code",
      "execution_count": null,
      "metadata": {
        "colab": {
          "base_uri": "https://localhost:8080/"
        },
        "id": "G7qgP5EkTH03",
        "outputId": "fb0dd19c-baaf-4d6d-a663-5a53682ca055"
      },
      "outputs": [
        {
          "data": {
            "text/plain": [
              "4"
            ]
          },
          "execution_count": 17,
          "metadata": {},
          "output_type": "execute_result"
        }
      ],
      "source": [
        "a.ndim"
      ]
    },
    {
      "cell_type": "code",
      "execution_count": null,
      "metadata": {
        "id": "HJu3Axd1UvG0"
      },
      "outputs": [],
      "source": [
        "s=np.ones((3,4,5))"
      ]
    },
    {
      "cell_type": "code",
      "execution_count": null,
      "metadata": {
        "colab": {
          "base_uri": "https://localhost:8080/"
        },
        "id": "EYmZdUxeVMHz",
        "outputId": "3ad7bc6d-0f90-48e5-efc4-92ee39a9a485"
      },
      "outputs": [
        {
          "data": {
            "text/plain": [
              "array([[[1., 1., 1., 1., 1.],\n",
              "        [1., 1., 1., 1., 1.],\n",
              "        [1., 1., 1., 1., 1.],\n",
              "        [1., 1., 1., 1., 1.]],\n",
              "\n",
              "       [[1., 1., 1., 1., 1.],\n",
              "        [1., 1., 1., 1., 1.],\n",
              "        [1., 1., 1., 1., 1.],\n",
              "        [1., 1., 1., 1., 1.]],\n",
              "\n",
              "       [[1., 1., 1., 1., 1.],\n",
              "        [1., 1., 1., 1., 1.],\n",
              "        [1., 1., 1., 1., 1.],\n",
              "        [1., 1., 1., 1., 1.]]])"
            ]
          },
          "execution_count": 20,
          "metadata": {},
          "output_type": "execute_result"
        }
      ],
      "source": [
        "s"
      ]
    },
    {
      "cell_type": "code",
      "execution_count": null,
      "metadata": {
        "colab": {
          "base_uri": "https://localhost:8080/"
        },
        "id": "afyJBSVGVMu7",
        "outputId": "c58e89dd-527a-444f-8281-2dc8804cc6b5"
      },
      "outputs": [
        {
          "data": {
            "text/plain": [
              "3"
            ]
          },
          "execution_count": 21,
          "metadata": {},
          "output_type": "execute_result"
        }
      ],
      "source": [
        "s.ndim"
      ]
    },
    {
      "cell_type": "markdown",
      "metadata": {
        "id": "8W4LXmnJVpvY"
      },
      "source": [
        "##Function used in numpy"
      ]
    },
    {
      "cell_type": "code",
      "execution_count": null,
      "metadata": {
        "colab": {
          "base_uri": "https://localhost:8080/"
        },
        "id": "tbsoOZ_9VPEd",
        "outputId": "03aa6351-73cc-4e22-94ba-3460057b1ee5"
      },
      "outputs": [
        {
          "data": {
            "text/plain": [
              "array([ 99,  10,  11, 525])"
            ]
          },
          "execution_count": 29,
          "metadata": {},
          "output_type": "execute_result"
        }
      ],
      "source": [
        "var=np.array([99,10,11,525])\n",
        "var"
      ]
    },
    {
      "cell_type": "code",
      "execution_count": null,
      "metadata": {
        "colab": {
          "base_uri": "https://localhost:8080/"
        },
        "id": "r71ni9GxWr4j",
        "outputId": "2ade825d-58f8-47db-ef77-ec479109dc5f"
      },
      "outputs": [
        {
          "data": {
            "text/plain": [
              "numpy.ndarray"
            ]
          },
          "execution_count": 30,
          "metadata": {},
          "output_type": "execute_result"
        }
      ],
      "source": [
        "type(var)"
      ]
    },
    {
      "cell_type": "code",
      "execution_count": null,
      "metadata": {
        "colab": {
          "base_uri": "https://localhost:8080/"
        },
        "id": "AjQX90gxWt0S",
        "outputId": "99040ab0-3d96-4889-ded8-980d5e839cd3"
      },
      "outputs": [
        {
          "data": {
            "text/plain": [
              "3"
            ]
          },
          "execution_count": 31,
          "metadata": {},
          "output_type": "execute_result"
        }
      ],
      "source": [
        "var.argmax() # max value-index value"
      ]
    },
    {
      "cell_type": "code",
      "execution_count": null,
      "metadata": {
        "colab": {
          "base_uri": "https://localhost:8080/"
        },
        "id": "SwS_CIBeW1zO",
        "outputId": "e9387b6b-5f79-4597-da00-3d2f6c8a8383"
      },
      "outputs": [
        {
          "data": {
            "text/plain": [
              "1"
            ]
          },
          "execution_count": 32,
          "metadata": {},
          "output_type": "execute_result"
        }
      ],
      "source": [
        "var.argmin() #min value-index value"
      ]
    },
    {
      "cell_type": "code",
      "execution_count": null,
      "metadata": {
        "colab": {
          "base_uri": "https://localhost:8080/"
        },
        "id": "0axD73k_XrgR",
        "outputId": "d19328af-014f-4f7b-ba23-dc2975fee483"
      },
      "outputs": [
        {
          "data": {
            "text/plain": [
              "525"
            ]
          },
          "execution_count": 33,
          "metadata": {},
          "output_type": "execute_result"
        }
      ],
      "source": [
        "var[3]"
      ]
    },
    {
      "cell_type": "code",
      "execution_count": null,
      "metadata": {
        "colab": {
          "base_uri": "https://localhost:8080/"
        },
        "id": "4HnVGqj5X9Yi",
        "outputId": "67f3489b-8913-4a12-e937-0a5ace91106e"
      },
      "outputs": [
        {
          "data": {
            "text/plain": [
              "array([12, 23, 45, 67, 89,  1, 24, 46, 79])"
            ]
          },
          "execution_count": 35,
          "metadata": {},
          "output_type": "execute_result"
        }
      ],
      "source": [
        "var1=np.array([12,23,45,67,89,1,24,46,79])\n",
        "var1"
      ]
    },
    {
      "cell_type": "code",
      "execution_count": null,
      "metadata": {
        "colab": {
          "base_uri": "https://localhost:8080/"
        },
        "id": "suelBYmzYRrQ",
        "outputId": "eee6c6f8-e132-4ba3-cc4b-dbd1044b5e00"
      },
      "outputs": [
        {
          "data": {
            "text/plain": [
              "array([12, 23, 45, 67, 89])"
            ]
          },
          "execution_count": 37,
          "metadata": {},
          "output_type": "execute_result"
        }
      ],
      "source": [
        "var1[:5]"
      ]
    },
    {
      "cell_type": "code",
      "execution_count": null,
      "metadata": {
        "colab": {
          "base_uri": "https://localhost:8080/"
        },
        "id": "M5aZEt01Yc6c",
        "outputId": "72742bdc-ec10-4d9d-fc6f-0b69597941fb"
      },
      "outputs": [
        {
          "data": {
            "text/plain": [
              "array([45, 67, 89,  1, 24])"
            ]
          },
          "execution_count": 38,
          "metadata": {},
          "output_type": "execute_result"
        }
      ],
      "source": [
        "var1[2:-2]"
      ]
    },
    {
      "cell_type": "code",
      "execution_count": null,
      "metadata": {
        "colab": {
          "base_uri": "https://localhost:8080/"
        },
        "id": "JV-vm2VyYkP6",
        "outputId": "1bf1caa9-2d05-4f78-e3cc-fe3fb3240e6f"
      },
      "outputs": [
        {
          "data": {
            "text/plain": [
              "79"
            ]
          },
          "execution_count": 40,
          "metadata": {},
          "output_type": "execute_result"
        }
      ],
      "source": [
        "var1[-1]"
      ]
    },
    {
      "cell_type": "code",
      "execution_count": null,
      "metadata": {
        "colab": {
          "base_uri": "https://localhost:8080/"
        },
        "id": "K4ZmV6iBY3dr",
        "outputId": "c3783a99-3017-44f5-bcc4-97cbdb122534"
      },
      "outputs": [
        {
          "data": {
            "text/plain": [
              "dtype('int64')"
            ]
          },
          "execution_count": 41,
          "metadata": {},
          "output_type": "execute_result"
        }
      ],
      "source": [
        "var1.dtype   #it can check the data type"
      ]
    },
    {
      "cell_type": "code",
      "execution_count": null,
      "metadata": {
        "colab": {
          "base_uri": "https://localhost:8080/"
        },
        "id": "ZkQQYOM8ZIQ7",
        "outputId": "48dafd1e-660f-49cf-b9ff-afede4de4ded"
      },
      "outputs": [
        {
          "data": {
            "text/plain": [
              "array([12.33, 23.  , 45.  , 67.  , 89.  ,  1.  , 24.  , 46.  , 79.  ])"
            ]
          },
          "execution_count": 43,
          "metadata": {},
          "output_type": "execute_result"
        }
      ],
      "source": [
        "var2=np.array([12.33,23,45,67,89,1,24,46,79])\n",
        "var2"
      ]
    },
    {
      "cell_type": "code",
      "execution_count": null,
      "metadata": {
        "colab": {
          "base_uri": "https://localhost:8080/"
        },
        "id": "pm3e6jNHZSLU",
        "outputId": "bdb8ed77-141f-4a63-accf-a23cbf988b96"
      },
      "outputs": [
        {
          "data": {
            "text/plain": [
              "dtype('float64')"
            ]
          },
          "execution_count": 44,
          "metadata": {},
          "output_type": "execute_result"
        }
      ],
      "source": [
        "var2.dtype"
      ]
    },
    {
      "cell_type": "code",
      "execution_count": null,
      "metadata": {
        "colab": {
          "base_uri": "https://localhost:8080/"
        },
        "id": "sHdYiSNkZYmD",
        "outputId": "092737c5-fbd0-4d2d-df53-7b208982a1bb"
      },
      "outputs": [
        {
          "data": {
            "text/plain": [
              "9"
            ]
          },
          "execution_count": 45,
          "metadata": {},
          "output_type": "execute_result"
        }
      ],
      "source": [
        "var1.size #it can check the size"
      ]
    },
    {
      "cell_type": "code",
      "execution_count": null,
      "metadata": {
        "colab": {
          "base_uri": "https://localhost:8080/"
        },
        "id": "H3WN9x7-Zk8b",
        "outputId": "4eb530c1-7596-46e4-8e02-0e493e107313"
      },
      "outputs": [
        {
          "name": "stdout",
          "output_type": "stream",
          "text": [
            "5\n",
            "float64\n"
          ]
        }
      ],
      "source": [
        "#create an numpy with size 5 and datatype of floating point\n",
        "\n",
        "p=np.array([1.1,2,3,4,5])\n",
        "print(p.size)\n",
        "print(p.dtype)\n"
      ]
    },
    {
      "cell_type": "code",
      "execution_count": null,
      "metadata": {
        "colab": {
          "base_uri": "https://localhost:8080/"
        },
        "id": "ukqHEUIiaSM9",
        "outputId": "a384dff2-d284-480e-c0ec-6d7c4935b50e"
      },
      "outputs": [
        {
          "data": {
            "text/plain": [
              "array([[0., 0.],\n",
              "       [0., 0.],\n",
              "       [0., 0.],\n",
              "       [0., 0.]])"
            ]
          },
          "execution_count": 51,
          "metadata": {},
          "output_type": "execute_result"
        }
      ],
      "source": [
        "''' create a 2D array\n",
        "    4 arrays in the external array\n",
        "    it should have two elements in each'''\n",
        "\n",
        "q=np.zeros((4,2))\n",
        "q"
      ]
    },
    {
      "cell_type": "code",
      "execution_count": null,
      "metadata": {
        "colab": {
          "base_uri": "https://localhost:8080/"
        },
        "id": "9bCzzeznbYgk",
        "outputId": "48c026c3-9682-43e9-fd10-1b990ceb82dd"
      },
      "outputs": [
        {
          "data": {
            "text/plain": [
              "2"
            ]
          },
          "execution_count": 52,
          "metadata": {},
          "output_type": "execute_result"
        }
      ],
      "source": [
        "q.ndim"
      ]
    },
    {
      "cell_type": "markdown",
      "metadata": {
        "id": "HWerSLzWcSFf"
      },
      "source": [
        "# Resize and Reshape"
      ]
    },
    {
      "cell_type": "code",
      "execution_count": null,
      "metadata": {
        "colab": {
          "base_uri": "https://localhost:8080/"
        },
        "id": "oFYyOQWacKdm",
        "outputId": "78044b79-b5be-4d6d-874f-c30cea7e6a4d"
      },
      "outputs": [
        {
          "data": {
            "text/plain": [
              "array([ 0,  1,  2,  3,  4,  5,  6,  7,  8,  9, 10, 11])"
            ]
          },
          "execution_count": 56,
          "metadata": {},
          "output_type": "execute_result"
        }
      ],
      "source": [
        "r=np.arange(12)\n",
        "r\n"
      ]
    },
    {
      "cell_type": "code",
      "execution_count": null,
      "metadata": {
        "colab": {
          "base_uri": "https://localhost:8080/"
        },
        "id": "9QK0RwhSdXO_",
        "outputId": "6284367c-1d2e-420e-c0a0-2410830fa2f2"
      },
      "outputs": [
        {
          "data": {
            "text/plain": [
              "array([[ 0,  1,  2],\n",
              "       [ 3,  4,  5],\n",
              "       [ 6,  7,  8],\n",
              "       [ 9, 10, 11]])"
            ]
          },
          "execution_count": 60,
          "metadata": {},
          "output_type": "execute_result"
        }
      ],
      "source": [
        "r1=r.reshape(4,3)\n",
        "r1"
      ]
    },
    {
      "cell_type": "code",
      "execution_count": null,
      "metadata": {
        "colab": {
          "base_uri": "https://localhost:8080/"
        },
        "id": "sdrEsoQldh24",
        "outputId": "575962b9-d6f1-4474-87ac-cea43c29cd91"
      },
      "outputs": [
        {
          "data": {
            "text/plain": [
              "11"
            ]
          },
          "execution_count": 61,
          "metadata": {},
          "output_type": "execute_result"
        }
      ],
      "source": [
        "r1.max()"
      ]
    },
    {
      "cell_type": "code",
      "execution_count": null,
      "metadata": {
        "colab": {
          "base_uri": "https://localhost:8080/"
        },
        "id": "hRoB_6F2eBBu",
        "outputId": "c067966a-36b9-463c-bdaf-e141ad5f1f78"
      },
      "outputs": [
        {
          "data": {
            "text/plain": [
              "0"
            ]
          },
          "execution_count": 62,
          "metadata": {},
          "output_type": "execute_result"
        }
      ],
      "source": [
        "r1.min()"
      ]
    },
    {
      "cell_type": "code",
      "execution_count": null,
      "metadata": {
        "colab": {
          "base_uri": "https://localhost:8080/"
        },
        "id": "EWgGrOH9eDUd",
        "outputId": "1b65a835-ec22-45c5-a187-b4908e7b108f"
      },
      "outputs": [
        {
          "data": {
            "text/plain": [
              "array([[0.        , 1.        , 1.41421356],\n",
              "       [1.73205081, 2.        , 2.23606798],\n",
              "       [2.44948974, 2.64575131, 2.82842712],\n",
              "       [3.        , 3.16227766, 3.31662479]])"
            ]
          },
          "execution_count": 64,
          "metadata": {},
          "output_type": "execute_result"
        }
      ],
      "source": [
        "np.sqrt(r1)"
      ]
    },
    {
      "cell_type": "code",
      "execution_count": null,
      "metadata": {
        "colab": {
          "base_uri": "https://localhost:8080/"
        },
        "id": "GhW-u4vveHL_",
        "outputId": "9e5807b2-01f3-4529-ddb5-0c318c909a34"
      },
      "outputs": [
        {
          "name": "stderr",
          "output_type": "stream",
          "text": [
            "<ipython-input-65-518b9941ea25>:1: RuntimeWarning: divide by zero encountered in log\n",
            "  np.log(r1)\n"
          ]
        },
        {
          "data": {
            "text/plain": [
              "array([[      -inf, 0.        , 0.69314718],\n",
              "       [1.09861229, 1.38629436, 1.60943791],\n",
              "       [1.79175947, 1.94591015, 2.07944154],\n",
              "       [2.19722458, 2.30258509, 2.39789527]])"
            ]
          },
          "execution_count": 65,
          "metadata": {},
          "output_type": "execute_result"
        }
      ],
      "source": [
        "np.log(r1)"
      ]
    },
    {
      "cell_type": "code",
      "execution_count": null,
      "metadata": {
        "colab": {
          "base_uri": "https://localhost:8080/"
        },
        "id": "PsfOdT8YeT0u",
        "outputId": "f0649100-29d0-493e-a67a-83266d177e87"
      },
      "outputs": [
        {
          "data": {
            "text/plain": [
              "array([[1.00000000e+00, 2.71828183e+00, 7.38905610e+00],\n",
              "       [2.00855369e+01, 5.45981500e+01, 1.48413159e+02],\n",
              "       [4.03428793e+02, 1.09663316e+03, 2.98095799e+03],\n",
              "       [8.10308393e+03, 2.20264658e+04, 5.98741417e+04]])"
            ]
          },
          "execution_count": 66,
          "metadata": {},
          "output_type": "execute_result"
        }
      ],
      "source": [
        "np.exp(r1)"
      ]
    },
    {
      "cell_type": "code",
      "execution_count": null,
      "metadata": {
        "colab": {
          "base_uri": "https://localhost:8080/"
        },
        "id": "CrYHOW7IehTT",
        "outputId": "b6323955-8b05-4fa1-ce48-8a630253b08e"
      },
      "outputs": [
        {
          "data": {
            "text/plain": [
              "array([[ 0,  1,  2],\n",
              "       [ 3,  4,  5],\n",
              "       [ 6,  7,  8],\n",
              "       [ 9, 10, 11]])"
            ]
          },
          "execution_count": 67,
          "metadata": {},
          "output_type": "execute_result"
        }
      ],
      "source": [
        "r1"
      ]
    },
    {
      "cell_type": "code",
      "execution_count": null,
      "metadata": {
        "colab": {
          "base_uri": "https://localhost:8080/"
        },
        "id": "C712P4-Iemlm",
        "outputId": "1b995f6c-e8ba-488b-fded-84a00ddbbc6f"
      },
      "outputs": [
        {
          "data": {
            "text/plain": [
              "(4, 3)"
            ]
          },
          "execution_count": 68,
          "metadata": {},
          "output_type": "execute_result"
        }
      ],
      "source": [
        "r1.shape  # it tells rows and columns"
      ]
    },
    {
      "cell_type": "markdown",
      "metadata": {
        "id": "qz6hv03xiS3w"
      },
      "source": [
        "#Floor and Ceil"
      ]
    },
    {
      "cell_type": "code",
      "execution_count": null,
      "metadata": {
        "colab": {
          "base_uri": "https://localhost:8080/"
        },
        "id": "C7QQRVJ4exsL",
        "outputId": "5c8fa5d5-00c2-4a69-a627-70b9e852d5d3"
      },
      "outputs": [
        {
          "data": {
            "text/plain": [
              "array([2.3, 4.6, 7.5, 8.9])"
            ]
          },
          "execution_count": 69,
          "metadata": {},
          "output_type": "execute_result"
        }
      ],
      "source": [
        "a=np.array([2.3,4.6,7.5,8.9])\n",
        "a"
      ]
    },
    {
      "cell_type": "code",
      "execution_count": null,
      "metadata": {
        "colab": {
          "base_uri": "https://localhost:8080/"
        },
        "id": "6q46MY4RjQ1l",
        "outputId": "20d107f4-b1a4-49ed-f5a0-143e507fc46e"
      },
      "outputs": [
        {
          "data": {
            "text/plain": [
              "array([2., 4., 7., 8.])"
            ]
          },
          "execution_count": 70,
          "metadata": {},
          "output_type": "execute_result"
        }
      ],
      "source": [
        "np.floor(a)"
      ]
    },
    {
      "cell_type": "code",
      "execution_count": null,
      "metadata": {
        "colab": {
          "base_uri": "https://localhost:8080/"
        },
        "id": "nQhBWo5WjVNI",
        "outputId": "9c8c0462-2921-40fd-f0c0-516f2dd2e3c5"
      },
      "outputs": [
        {
          "data": {
            "text/plain": [
              "array([2., 5., 8., 9.])"
            ]
          },
          "execution_count": 71,
          "metadata": {},
          "output_type": "execute_result"
        }
      ],
      "source": [
        "np.round(a)"
      ]
    },
    {
      "cell_type": "code",
      "execution_count": null,
      "metadata": {
        "colab": {
          "base_uri": "https://localhost:8080/"
        },
        "id": "csfNUqPejY_L",
        "outputId": "ae08bec2-bd22-468c-ef14-652a688eec1b"
      },
      "outputs": [
        {
          "data": {
            "text/plain": [
              "array([3., 5., 8., 9.])"
            ]
          },
          "execution_count": 72,
          "metadata": {},
          "output_type": "execute_result"
        }
      ],
      "source": [
        "np.ceil(a)"
      ]
    },
    {
      "cell_type": "markdown",
      "metadata": {
        "id": "tvJoP6WxkFEo"
      },
      "source": [
        "# Stacking\n"
      ]
    },
    {
      "cell_type": "code",
      "execution_count": null,
      "metadata": {
        "id": "FSdM3xeoj_86"
      },
      "outputs": [],
      "source": [
        "a1=np.arange(10).reshape(2,5)\n",
        "a2=np.arange(20).reshape(4,5)"
      ]
    },
    {
      "cell_type": "code",
      "execution_count": null,
      "metadata": {
        "colab": {
          "base_uri": "https://localhost:8080/"
        },
        "id": "4bVwiRZ1k2QY",
        "outputId": "44867234-da61-4782-eae3-314724197651"
      },
      "outputs": [
        {
          "data": {
            "text/plain": [
              "array([[0, 1, 2, 3, 4],\n",
              "       [5, 6, 7, 8, 9]])"
            ]
          },
          "execution_count": 75,
          "metadata": {},
          "output_type": "execute_result"
        }
      ],
      "source": [
        "a1"
      ]
    },
    {
      "cell_type": "code",
      "execution_count": null,
      "metadata": {
        "colab": {
          "base_uri": "https://localhost:8080/"
        },
        "id": "IBMSsxxvk6bf",
        "outputId": "a06fb0bc-932b-49b7-82a7-6fe357b761c5"
      },
      "outputs": [
        {
          "data": {
            "text/plain": [
              "array([[ 0,  1,  2,  3,  4],\n",
              "       [ 5,  6,  7,  8,  9],\n",
              "       [10, 11, 12, 13, 14],\n",
              "       [15, 16, 17, 18, 19]])"
            ]
          },
          "execution_count": 76,
          "metadata": {},
          "output_type": "execute_result"
        }
      ],
      "source": [
        "a2"
      ]
    },
    {
      "cell_type": "code",
      "execution_count": null,
      "metadata": {
        "colab": {
          "base_uri": "https://localhost:8080/"
        },
        "id": "U1c_W_J3k7Ws",
        "outputId": "e669e633-8ea1-439f-dc3d-8066129cf767"
      },
      "outputs": [
        {
          "data": {
            "text/plain": [
              "array([[ 0,  1,  2,  3,  4],\n",
              "       [ 5,  6,  7,  8,  9],\n",
              "       [ 0,  1,  2,  3,  4],\n",
              "       [ 5,  6,  7,  8,  9],\n",
              "       [10, 11, 12, 13, 14],\n",
              "       [15, 16, 17, 18, 19]])"
            ]
          },
          "execution_count": 77,
          "metadata": {},
          "output_type": "execute_result"
        }
      ],
      "source": [
        "np.vstack((a1,a2))  #vertical stacking - no. of columns should be equal in both arrays"
      ]
    },
    {
      "cell_type": "code",
      "execution_count": null,
      "metadata": {
        "id": "vVw1CQNAlGLi"
      },
      "outputs": [],
      "source": [
        "a3=np.arange(12).reshape(4,3)\n",
        "a4=np.arange(24).reshape(4,6)\n"
      ]
    },
    {
      "cell_type": "code",
      "execution_count": null,
      "metadata": {
        "colab": {
          "base_uri": "https://localhost:8080/"
        },
        "id": "OwRwSmp7l2lz",
        "outputId": "46d6fe00-c127-4ea0-962b-5ac1178b6651"
      },
      "outputs": [
        {
          "data": {
            "text/plain": [
              "array([[ 0,  1,  2],\n",
              "       [ 3,  4,  5],\n",
              "       [ 6,  7,  8],\n",
              "       [ 9, 10, 11]])"
            ]
          },
          "execution_count": 79,
          "metadata": {},
          "output_type": "execute_result"
        }
      ],
      "source": [
        "a3"
      ]
    },
    {
      "cell_type": "code",
      "execution_count": null,
      "metadata": {
        "colab": {
          "base_uri": "https://localhost:8080/"
        },
        "id": "NkeB44Gal3Y4",
        "outputId": "ee7f6253-d5a8-4703-b4e5-cac8011d3ea6"
      },
      "outputs": [
        {
          "data": {
            "text/plain": [
              "array([[ 0,  1,  2,  3,  4,  5],\n",
              "       [ 6,  7,  8,  9, 10, 11],\n",
              "       [12, 13, 14, 15, 16, 17],\n",
              "       [18, 19, 20, 21, 22, 23]])"
            ]
          },
          "execution_count": 80,
          "metadata": {},
          "output_type": "execute_result"
        }
      ],
      "source": [
        "a4"
      ]
    },
    {
      "cell_type": "code",
      "execution_count": null,
      "metadata": {
        "colab": {
          "base_uri": "https://localhost:8080/"
        },
        "id": "iKUv6E79l37F",
        "outputId": "1ec785fa-cac2-4ea0-bba0-9937bf6d927a"
      },
      "outputs": [
        {
          "data": {
            "text/plain": [
              "array([[ 0,  1,  2,  0,  1,  2,  3,  4,  5],\n",
              "       [ 3,  4,  5,  6,  7,  8,  9, 10, 11],\n",
              "       [ 6,  7,  8, 12, 13, 14, 15, 16, 17],\n",
              "       [ 9, 10, 11, 18, 19, 20, 21, 22, 23]])"
            ]
          },
          "execution_count": 81,
          "metadata": {},
          "output_type": "execute_result"
        }
      ],
      "source": [
        "np.hstack((a3,a4)) # horizontal stacking-no. of rows should be equal in both arrays"
      ]
    },
    {
      "cell_type": "markdown",
      "metadata": {
        "id": "LwLl_F-ymgB4"
      },
      "source": [
        "#Numpy Split"
      ]
    },
    {
      "cell_type": "code",
      "execution_count": null,
      "metadata": {
        "colab": {
          "base_uri": "https://localhost:8080/"
        },
        "id": "lKU1TMLAl-Hf",
        "outputId": "ef6ab4a8-5c11-421a-934d-90e00489987b"
      },
      "outputs": [
        {
          "data": {
            "text/plain": [
              "array([[ 0,  1,  2,  3,  4,  5,  6,  7,  8,  9],\n",
              "       [10, 11, 12, 13, 14, 15, 16, 17, 18, 19],\n",
              "       [20, 21, 22, 23, 24, 25, 26, 27, 28, 29],\n",
              "       [30, 31, 32, 33, 34, 35, 36, 37, 38, 39],\n",
              "       [40, 41, 42, 43, 44, 45, 46, 47, 48, 49],\n",
              "       [50, 51, 52, 53, 54, 55, 56, 57, 58, 59],\n",
              "       [60, 61, 62, 63, 64, 65, 66, 67, 68, 69],\n",
              "       [70, 71, 72, 73, 74, 75, 76, 77, 78, 79],\n",
              "       [80, 81, 82, 83, 84, 85, 86, 87, 88, 89],\n",
              "       [90, 91, 92, 93, 94, 95, 96, 97, 98, 99]])"
            ]
          },
          "execution_count": 82,
          "metadata": {},
          "output_type": "execute_result"
        }
      ],
      "source": [
        "arr=np.arange(100).reshape(10,10)\n",
        "arr"
      ]
    },
    {
      "cell_type": "code",
      "execution_count": null,
      "metadata": {
        "colab": {
          "base_uri": "https://localhost:8080/"
        },
        "id": "8VeZvTQonQk1",
        "outputId": "8151ae42-1f7b-476a-c6a2-8ad00522f74a"
      },
      "outputs": [
        {
          "data": {
            "text/plain": [
              "[array([[ 0,  1,  2,  3,  4,  5,  6,  7,  8,  9],\n",
              "        [10, 11, 12, 13, 14, 15, 16, 17, 18, 19],\n",
              "        [20, 21, 22, 23, 24, 25, 26, 27, 28, 29],\n",
              "        [30, 31, 32, 33, 34, 35, 36, 37, 38, 39],\n",
              "        [40, 41, 42, 43, 44, 45, 46, 47, 48, 49]]),\n",
              " array([[50, 51, 52, 53, 54, 55, 56, 57, 58, 59],\n",
              "        [60, 61, 62, 63, 64, 65, 66, 67, 68, 69],\n",
              "        [70, 71, 72, 73, 74, 75, 76, 77, 78, 79],\n",
              "        [80, 81, 82, 83, 84, 85, 86, 87, 88, 89],\n",
              "        [90, 91, 92, 93, 94, 95, 96, 97, 98, 99]])]"
            ]
          },
          "execution_count": 83,
          "metadata": {},
          "output_type": "execute_result"
        }
      ],
      "source": [
        "np.vsplit(arr,2)"
      ]
    },
    {
      "cell_type": "code",
      "execution_count": null,
      "metadata": {
        "colab": {
          "base_uri": "https://localhost:8080/"
        },
        "id": "ec_2zCxXnWFf",
        "outputId": "b63baef3-1bfa-4f33-cf7f-92739adc7880"
      },
      "outputs": [
        {
          "data": {
            "text/plain": [
              "[array([[ 0,  1,  2,  3,  4],\n",
              "        [10, 11, 12, 13, 14],\n",
              "        [20, 21, 22, 23, 24],\n",
              "        [30, 31, 32, 33, 34],\n",
              "        [40, 41, 42, 43, 44],\n",
              "        [50, 51, 52, 53, 54],\n",
              "        [60, 61, 62, 63, 64],\n",
              "        [70, 71, 72, 73, 74],\n",
              "        [80, 81, 82, 83, 84],\n",
              "        [90, 91, 92, 93, 94]]),\n",
              " array([[ 5,  6,  7,  8,  9],\n",
              "        [15, 16, 17, 18, 19],\n",
              "        [25, 26, 27, 28, 29],\n",
              "        [35, 36, 37, 38, 39],\n",
              "        [45, 46, 47, 48, 49],\n",
              "        [55, 56, 57, 58, 59],\n",
              "        [65, 66, 67, 68, 69],\n",
              "        [75, 76, 77, 78, 79],\n",
              "        [85, 86, 87, 88, 89],\n",
              "        [95, 96, 97, 98, 99]])]"
            ]
          },
          "execution_count": 84,
          "metadata": {},
          "output_type": "execute_result"
        }
      ],
      "source": [
        "np.hsplit(arr,2)"
      ]
    },
    {
      "cell_type": "code",
      "execution_count": null,
      "metadata": {
        "colab": {
          "base_uri": "https://localhost:8080/"
        },
        "id": "VSoGogYuneuX",
        "outputId": "f1be976e-0f83-4b02-bce1-4465b6d76baa"
      },
      "outputs": [
        {
          "data": {
            "text/plain": [
              "[array([[ 0,  1],\n",
              "        [10, 11],\n",
              "        [20, 21],\n",
              "        [30, 31],\n",
              "        [40, 41],\n",
              "        [50, 51],\n",
              "        [60, 61],\n",
              "        [70, 71],\n",
              "        [80, 81],\n",
              "        [90, 91]]),\n",
              " array([[ 2,  3],\n",
              "        [12, 13],\n",
              "        [22, 23],\n",
              "        [32, 33],\n",
              "        [42, 43],\n",
              "        [52, 53],\n",
              "        [62, 63],\n",
              "        [72, 73],\n",
              "        [82, 83],\n",
              "        [92, 93]]),\n",
              " array([[ 4,  5],\n",
              "        [14, 15],\n",
              "        [24, 25],\n",
              "        [34, 35],\n",
              "        [44, 45],\n",
              "        [54, 55],\n",
              "        [64, 65],\n",
              "        [74, 75],\n",
              "        [84, 85],\n",
              "        [94, 95]]),\n",
              " array([[ 6,  7],\n",
              "        [16, 17],\n",
              "        [26, 27],\n",
              "        [36, 37],\n",
              "        [46, 47],\n",
              "        [56, 57],\n",
              "        [66, 67],\n",
              "        [76, 77],\n",
              "        [86, 87],\n",
              "        [96, 97]]),\n",
              " array([[ 8,  9],\n",
              "        [18, 19],\n",
              "        [28, 29],\n",
              "        [38, 39],\n",
              "        [48, 49],\n",
              "        [58, 59],\n",
              "        [68, 69],\n",
              "        [78, 79],\n",
              "        [88, 89],\n",
              "        [98, 99]])]"
            ]
          },
          "execution_count": 87,
          "metadata": {},
          "output_type": "execute_result"
        }
      ],
      "source": [
        "np.hsplit(arr,5)"
      ]
    },
    {
      "cell_type": "code",
      "execution_count": null,
      "metadata": {
        "id": "t7BQBbSPqrb7"
      },
      "outputs": [],
      "source": [
        "# create a numpy array with shape of 200, array should be 20 rows and 10 columns\n",
        "# split the array into vertically and horizondally\n"
      ]
    },
    {
      "cell_type": "code",
      "execution_count": null,
      "metadata": {
        "colab": {
          "background_save": true
        },
        "id": "xKeLabwurU3s",
        "outputId": "b12eede9-fd7d-4fb5-9eac-08291da33c0e"
      },
      "outputs": [
        {
          "data": {
            "text/plain": [
              "array([[  0,   1,   2,   3,   4,   5,   6,   7,   8,   9],\n",
              "       [ 10,  11,  12,  13,  14,  15,  16,  17,  18,  19],\n",
              "       [ 20,  21,  22,  23,  24,  25,  26,  27,  28,  29],\n",
              "       [ 30,  31,  32,  33,  34,  35,  36,  37,  38,  39],\n",
              "       [ 40,  41,  42,  43,  44,  45,  46,  47,  48,  49],\n",
              "       [ 50,  51,  52,  53,  54,  55,  56,  57,  58,  59],\n",
              "       [ 60,  61,  62,  63,  64,  65,  66,  67,  68,  69],\n",
              "       [ 70,  71,  72,  73,  74,  75,  76,  77,  78,  79],\n",
              "       [ 80,  81,  82,  83,  84,  85,  86,  87,  88,  89],\n",
              "       [ 90,  91,  92,  93,  94,  95,  96,  97,  98,  99],\n",
              "       [100, 101, 102, 103, 104, 105, 106, 107, 108, 109],\n",
              "       [110, 111, 112, 113, 114, 115, 116, 117, 118, 119],\n",
              "       [120, 121, 122, 123, 124, 125, 126, 127, 128, 129],\n",
              "       [130, 131, 132, 133, 134, 135, 136, 137, 138, 139],\n",
              "       [140, 141, 142, 143, 144, 145, 146, 147, 148, 149],\n",
              "       [150, 151, 152, 153, 154, 155, 156, 157, 158, 159],\n",
              "       [160, 161, 162, 163, 164, 165, 166, 167, 168, 169],\n",
              "       [170, 171, 172, 173, 174, 175, 176, 177, 178, 179],\n",
              "       [180, 181, 182, 183, 184, 185, 186, 187, 188, 189],\n",
              "       [190, 191, 192, 193, 194, 195, 196, 197, 198, 199]])"
            ]
          },
          "execution_count": 90,
          "metadata": {},
          "output_type": "execute_result"
        }
      ],
      "source": [
        "s=np.arange(200).reshape(20,10)"
      ]
    },
    {
      "cell_type": "code",
      "source": [
        "np.vsplit(s,2)"
      ],
      "metadata": {
        "colab": {
          "base_uri": "https://localhost:8080/"
        },
        "id": "YZHzt5qUrztN",
        "outputId": "698a0ff4-a294-4fa8-e5b5-080c28de7a88"
      },
      "execution_count": 92,
      "outputs": [
        {
          "output_type": "execute_result",
          "data": {
            "text/plain": [
              "[array([[ 0,  1,  2,  3,  4,  5,  6,  7,  8,  9],\n",
              "        [10, 11, 12, 13, 14, 15, 16, 17, 18, 19],\n",
              "        [20, 21, 22, 23, 24, 25, 26, 27, 28, 29],\n",
              "        [30, 31, 32, 33, 34, 35, 36, 37, 38, 39],\n",
              "        [40, 41, 42, 43, 44, 45, 46, 47, 48, 49],\n",
              "        [50, 51, 52, 53, 54, 55, 56, 57, 58, 59],\n",
              "        [60, 61, 62, 63, 64, 65, 66, 67, 68, 69],\n",
              "        [70, 71, 72, 73, 74, 75, 76, 77, 78, 79],\n",
              "        [80, 81, 82, 83, 84, 85, 86, 87, 88, 89],\n",
              "        [90, 91, 92, 93, 94, 95, 96, 97, 98, 99]]),\n",
              " array([[100, 101, 102, 103, 104, 105, 106, 107, 108, 109],\n",
              "        [110, 111, 112, 113, 114, 115, 116, 117, 118, 119],\n",
              "        [120, 121, 122, 123, 124, 125, 126, 127, 128, 129],\n",
              "        [130, 131, 132, 133, 134, 135, 136, 137, 138, 139],\n",
              "        [140, 141, 142, 143, 144, 145, 146, 147, 148, 149],\n",
              "        [150, 151, 152, 153, 154, 155, 156, 157, 158, 159],\n",
              "        [160, 161, 162, 163, 164, 165, 166, 167, 168, 169],\n",
              "        [170, 171, 172, 173, 174, 175, 176, 177, 178, 179],\n",
              "        [180, 181, 182, 183, 184, 185, 186, 187, 188, 189],\n",
              "        [190, 191, 192, 193, 194, 195, 196, 197, 198, 199]])]"
            ]
          },
          "metadata": {},
          "execution_count": 92
        }
      ]
    },
    {
      "cell_type": "code",
      "source": [
        "np.hsplit(s,2)"
      ],
      "metadata": {
        "colab": {
          "base_uri": "https://localhost:8080/"
        },
        "id": "7wQvbgB7r8hV",
        "outputId": "b5ab09a6-2d12-4c32-af8f-e19a8006c233"
      },
      "execution_count": 93,
      "outputs": [
        {
          "output_type": "execute_result",
          "data": {
            "text/plain": [
              "[array([[  0,   1,   2,   3,   4],\n",
              "        [ 10,  11,  12,  13,  14],\n",
              "        [ 20,  21,  22,  23,  24],\n",
              "        [ 30,  31,  32,  33,  34],\n",
              "        [ 40,  41,  42,  43,  44],\n",
              "        [ 50,  51,  52,  53,  54],\n",
              "        [ 60,  61,  62,  63,  64],\n",
              "        [ 70,  71,  72,  73,  74],\n",
              "        [ 80,  81,  82,  83,  84],\n",
              "        [ 90,  91,  92,  93,  94],\n",
              "        [100, 101, 102, 103, 104],\n",
              "        [110, 111, 112, 113, 114],\n",
              "        [120, 121, 122, 123, 124],\n",
              "        [130, 131, 132, 133, 134],\n",
              "        [140, 141, 142, 143, 144],\n",
              "        [150, 151, 152, 153, 154],\n",
              "        [160, 161, 162, 163, 164],\n",
              "        [170, 171, 172, 173, 174],\n",
              "        [180, 181, 182, 183, 184],\n",
              "        [190, 191, 192, 193, 194]]),\n",
              " array([[  5,   6,   7,   8,   9],\n",
              "        [ 15,  16,  17,  18,  19],\n",
              "        [ 25,  26,  27,  28,  29],\n",
              "        [ 35,  36,  37,  38,  39],\n",
              "        [ 45,  46,  47,  48,  49],\n",
              "        [ 55,  56,  57,  58,  59],\n",
              "        [ 65,  66,  67,  68,  69],\n",
              "        [ 75,  76,  77,  78,  79],\n",
              "        [ 85,  86,  87,  88,  89],\n",
              "        [ 95,  96,  97,  98,  99],\n",
              "        [105, 106, 107, 108, 109],\n",
              "        [115, 116, 117, 118, 119],\n",
              "        [125, 126, 127, 128, 129],\n",
              "        [135, 136, 137, 138, 139],\n",
              "        [145, 146, 147, 148, 149],\n",
              "        [155, 156, 157, 158, 159],\n",
              "        [165, 166, 167, 168, 169],\n",
              "        [175, 176, 177, 178, 179],\n",
              "        [185, 186, 187, 188, 189],\n",
              "        [195, 196, 197, 198, 199]])]"
            ]
          },
          "metadata": {},
          "execution_count": 93
        }
      ]
    },
    {
      "cell_type": "code",
      "source": [],
      "metadata": {
        "id": "Dsfg8Y0lsBWV"
      },
      "execution_count": null,
      "outputs": []
    }
  ],
  "metadata": {
    "colab": {
      "provenance": []
    },
    "kernelspec": {
      "display_name": "Python 3",
      "name": "python3"
    },
    "language_info": {
      "name": "python"
    }
  },
  "nbformat": 4,
  "nbformat_minor": 0
}