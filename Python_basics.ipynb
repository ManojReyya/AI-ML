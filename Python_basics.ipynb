{
  "nbformat": 4,
  "nbformat_minor": 0,
  "metadata": {
    "colab": {
      "provenance": []
    },
    "kernelspec": {
      "name": "python3",
      "display_name": "Python 3"
    },
    "language_info": {
      "name": "python"
    }
  },
  "cells": [
    {
      "cell_type": "markdown",
      "source": [
        "# python basics"
      ],
      "metadata": {
        "id": "OKIsnYpLhZkJ"
      }
    },
    {
      "cell_type": "markdown",
      "source": [
        "#1.Print"
      ],
      "metadata": {
        "id": "9lYspeeljQj3"
      }
    },
    {
      "cell_type": "code",
      "execution_count": 3,
      "metadata": {
        "colab": {
          "base_uri": "https://localhost:8080/"
        },
        "id": "84EHkKS-gm2k",
        "outputId": "c35e4557-865d-46a7-cc0a-28c6222d596b"
      },
      "outputs": [
        {
          "output_type": "stream",
          "name": "stdout",
          "text": [
            "Manoj!\n"
          ]
        }
      ],
      "source": [
        "print('Manoj!')"
      ]
    },
    {
      "cell_type": "code",
      "source": [
        "print(\"venes\",'earth',\"mars\")"
      ],
      "metadata": {
        "colab": {
          "base_uri": "https://localhost:8080/"
        },
        "id": "VO9gz7mohY-B",
        "outputId": "da31fe18-e298-406f-e9c5-ac5dbc85c984"
      },
      "execution_count": 4,
      "outputs": [
        {
          "output_type": "stream",
          "name": "stdout",
          "text": [
            "venes earth mars\n"
          ]
        }
      ]
    },
    {
      "cell_type": "code",
      "source": [
        "print(\"venes\",'earth',\"mars\",sep=\"##\")"
      ],
      "metadata": {
        "colab": {
          "base_uri": "https://localhost:8080/"
        },
        "id": "e8jVlb9PhZBf",
        "outputId": "01f9c100-f4a5-4bfc-d4e1-7d3cd8ec53a6"
      },
      "execution_count": 5,
      "outputs": [
        {
          "output_type": "stream",
          "name": "stdout",
          "text": [
            "venes##earth##mars\n"
          ]
        }
      ]
    },
    {
      "cell_type": "code",
      "source": [
        "print(5,1.0,'earth')"
      ],
      "metadata": {
        "colab": {
          "base_uri": "https://localhost:8080/"
        },
        "id": "8knW6UZ1hZGz",
        "outputId": "26ec2ed1-21e2-422b-e271-2e9972714c20"
      },
      "execution_count": 7,
      "outputs": [
        {
          "output_type": "stream",
          "name": "stdout",
          "text": [
            "5 1.0 earth\n"
          ]
        }
      ]
    },
    {
      "cell_type": "markdown",
      "source": [
        "#2.Variable\n"
      ],
      "metadata": {
        "id": "MmyWXV2NlOgW"
      }
    },
    {
      "cell_type": "code",
      "source": [
        "a=5\n"
      ],
      "metadata": {
        "id": "urVQhDdghZKN"
      },
      "execution_count": 8,
      "outputs": []
    },
    {
      "cell_type": "code",
      "source": [
        "print(a)"
      ],
      "metadata": {
        "colab": {
          "base_uri": "https://localhost:8080/"
        },
        "id": "HoVfH2sOhhgh",
        "outputId": "02e3c528-1a2b-4870-91a9-e44c6dfba032"
      },
      "execution_count": 9,
      "outputs": [
        {
          "output_type": "stream",
          "name": "stdout",
          "text": [
            "5\n"
          ]
        }
      ]
    },
    {
      "cell_type": "code",
      "source": [
        "a"
      ],
      "metadata": {
        "colab": {
          "base_uri": "https://localhost:8080/"
        },
        "id": "3SOM1_Yhlkpc",
        "outputId": "1e391f34-3614-42ac-dff5-633140673d4a"
      },
      "execution_count": 10,
      "outputs": [
        {
          "output_type": "execute_result",
          "data": {
            "text/plain": [
              "5"
            ]
          },
          "metadata": {},
          "execution_count": 10
        }
      ]
    },
    {
      "cell_type": "markdown",
      "source": [
        "# Adding value to the varaible"
      ],
      "metadata": {
        "id": "3hF-x35bmC2l"
      }
    },
    {
      "cell_type": "code",
      "source": [
        "b=a+10"
      ],
      "metadata": {
        "id": "nAd8Kc9VlwLU"
      },
      "execution_count": 11,
      "outputs": []
    },
    {
      "cell_type": "code",
      "source": [
        "b"
      ],
      "metadata": {
        "colab": {
          "base_uri": "https://localhost:8080/"
        },
        "id": "F5lo5a2OmIgR",
        "outputId": "8c2adf15-071a-44e7-c787-af15fad702f7"
      },
      "execution_count": 12,
      "outputs": [
        {
          "output_type": "execute_result",
          "data": {
            "text/plain": [
              "15"
            ]
          },
          "metadata": {},
          "execution_count": 12
        }
      ]
    },
    {
      "cell_type": "markdown",
      "source": [
        "#Subtraction"
      ],
      "metadata": {
        "id": "w_mo6sVbmNGu"
      }
    },
    {
      "cell_type": "code",
      "source": [
        "c=b-a"
      ],
      "metadata": {
        "id": "EP7BdvyjmJW_"
      },
      "execution_count": 13,
      "outputs": []
    },
    {
      "cell_type": "code",
      "source": [
        "c"
      ],
      "metadata": {
        "colab": {
          "base_uri": "https://localhost:8080/"
        },
        "id": "up30Uq3jmUT3",
        "outputId": "91cfa6b1-4fc2-4ea7-e227-153cc7d71c3b"
      },
      "execution_count": 14,
      "outputs": [
        {
          "output_type": "execute_result",
          "data": {
            "text/plain": [
              "10"
            ]
          },
          "metadata": {},
          "execution_count": 14
        }
      ]
    },
    {
      "cell_type": "markdown",
      "source": [
        "#Multipication"
      ],
      "metadata": {
        "id": "6A1n92oImYPl"
      }
    },
    {
      "cell_type": "code",
      "source": [
        "d=c*a\n"
      ],
      "metadata": {
        "id": "ReTKoBMYmU6Y"
      },
      "execution_count": 15,
      "outputs": []
    },
    {
      "cell_type": "code",
      "source": [
        "d"
      ],
      "metadata": {
        "colab": {
          "base_uri": "https://localhost:8080/"
        },
        "id": "Hmws19VLmfwO",
        "outputId": "08cf3aa5-295e-4934-8176-122bba9de43b"
      },
      "execution_count": 16,
      "outputs": [
        {
          "output_type": "execute_result",
          "data": {
            "text/plain": [
              "50"
            ]
          },
          "metadata": {},
          "execution_count": 16
        }
      ]
    },
    {
      "cell_type": "code",
      "source": [
        "x=10\n",
        "y=x*x\n",
        "y"
      ],
      "metadata": {
        "colab": {
          "base_uri": "https://localhost:8080/"
        },
        "id": "XE1TTAZ6mghs",
        "outputId": "e1413270-0506-4de4-952f-46dc93d4d024"
      },
      "execution_count": 17,
      "outputs": [
        {
          "output_type": "execute_result",
          "data": {
            "text/plain": [
              "100"
            ]
          },
          "metadata": {},
          "execution_count": 17
        }
      ]
    },
    {
      "cell_type": "markdown",
      "source": [
        "#division"
      ],
      "metadata": {
        "id": "fRvh7mLcm3MH"
      }
    },
    {
      "cell_type": "code",
      "source": [
        "y=x/x\n",
        "y\n"
      ],
      "metadata": {
        "colab": {
          "base_uri": "https://localhost:8080/"
        },
        "id": "5ZJFTS4nmvJO",
        "outputId": "54d457b1-af3f-4f33-9e00-4b3bc6885c60"
      },
      "execution_count": 18,
      "outputs": [
        {
          "output_type": "execute_result",
          "data": {
            "text/plain": [
              "1.0"
            ]
          },
          "metadata": {},
          "execution_count": 18
        }
      ]
    },
    {
      "cell_type": "markdown",
      "source": [
        "#Dynamic typing\n"
      ],
      "metadata": {
        "id": "43yptJXLn7HJ"
      }
    },
    {
      "cell_type": "code",
      "source": [
        "type(y)\n"
      ],
      "metadata": {
        "colab": {
          "base_uri": "https://localhost:8080/"
        },
        "id": "vwKjY8pam_RR",
        "outputId": "15f1f226-2bb0-419e-bf93-f99504568798"
      },
      "execution_count": 19,
      "outputs": [
        {
          "output_type": "execute_result",
          "data": {
            "text/plain": [
              "float"
            ]
          },
          "metadata": {},
          "execution_count": 19
        }
      ]
    },
    {
      "cell_type": "code",
      "source": [],
      "metadata": {
        "id": "wycwEB7aoBVf"
      },
      "execution_count": null,
      "outputs": []
    },
    {
      "cell_type": "markdown",
      "source": [
        "#Operators\n"
      ],
      "metadata": {
        "id": "CdIZmO6ookbI"
      }
    },
    {
      "cell_type": "code",
      "source": [
        "a=10\n",
        "b=5\n",
        "print(a+b)\n",
        "print(a-b)\n",
        "print(a*b)\n",
        "print(a/b)\n",
        "print(a**b)\n",
        "print(a//b)\n",
        "print(a%b)"
      ],
      "metadata": {
        "colab": {
          "base_uri": "https://localhost:8080/"
        },
        "id": "mF3BgaWXol2B",
        "outputId": "b72eb2e1-0963-4850-a6b1-2b90cf070648"
      },
      "execution_count": 22,
      "outputs": [
        {
          "output_type": "stream",
          "name": "stdout",
          "text": [
            "15\n",
            "5\n",
            "50\n",
            "2.0\n",
            "100000\n",
            "2\n",
            "0\n"
          ]
        }
      ]
    },
    {
      "cell_type": "markdown",
      "source": [
        "#retional opertors"
      ],
      "metadata": {
        "id": "hx6cmmWOpJsD"
      }
    },
    {
      "cell_type": "code",
      "source": [
        "a=10\n",
        "b=5\n",
        "print(a>b)\n",
        "print(a<b)\n",
        "print(a==b)\n",
        "print(a!=b)\n",
        "print(a>=b)\n",
        "print(a<=b)"
      ],
      "metadata": {
        "colab": {
          "base_uri": "https://localhost:8080/"
        },
        "id": "K4ZMHDmhow59",
        "outputId": "34f7812b-f5c1-4e52-bb87-0601485b94a5"
      },
      "execution_count": 23,
      "outputs": [
        {
          "output_type": "stream",
          "name": "stdout",
          "text": [
            "True\n",
            "False\n",
            "False\n",
            "True\n",
            "True\n",
            "False\n"
          ]
        }
      ]
    },
    {
      "cell_type": "code",
      "source": [
        "list=['earth',1.22,55]\n"
      ],
      "metadata": {
        "id": "31dfWfxcpeHT"
      },
      "execution_count": 24,
      "outputs": []
    },
    {
      "cell_type": "code",
      "source": [
        "list\n"
      ],
      "metadata": {
        "colab": {
          "base_uri": "https://localhost:8080/"
        },
        "id": "JauTNDCepoFX",
        "outputId": "4f6f04cf-086b-4174-850f-84ff25f37551"
      },
      "execution_count": 25,
      "outputs": [
        {
          "output_type": "execute_result",
          "data": {
            "text/plain": [
              "['earth', 1.22, 55]"
            ]
          },
          "metadata": {},
          "execution_count": 25
        }
      ]
    },
    {
      "cell_type": "code",
      "source": [
        "#list is mutable-modify thelist\n"
      ],
      "metadata": {
        "id": "90YSzVN4ppk_"
      },
      "execution_count": 26,
      "outputs": []
    },
    {
      "cell_type": "code",
      "source": [
        "list[2]=2.04"
      ],
      "metadata": {
        "id": "7b2q0UdXsRoU"
      },
      "execution_count": 27,
      "outputs": []
    },
    {
      "cell_type": "code",
      "source": [
        "list\n"
      ],
      "metadata": {
        "colab": {
          "base_uri": "https://localhost:8080/"
        },
        "id": "fJ8OoioJsXpL",
        "outputId": "0014ed80-48a6-47cd-d221-b9a6dd08c93c"
      },
      "execution_count": 28,
      "outputs": [
        {
          "output_type": "execute_result",
          "data": {
            "text/plain": [
              "['earth', 1.22, 2.04]"
            ]
          },
          "metadata": {},
          "execution_count": 28
        }
      ]
    },
    {
      "cell_type": "code",
      "source": [
        "# length of list\n"
      ],
      "metadata": {
        "id": "fOM903fUsZBP"
      },
      "execution_count": 29,
      "outputs": []
    },
    {
      "cell_type": "code",
      "source": [
        "len(list)"
      ],
      "metadata": {
        "colab": {
          "base_uri": "https://localhost:8080/"
        },
        "id": "w7aWBh3eshdD",
        "outputId": "5741ee51-466d-4e14-97bc-4781b0df62b7"
      },
      "execution_count": 30,
      "outputs": [
        {
          "output_type": "execute_result",
          "data": {
            "text/plain": [
              "3"
            ]
          },
          "metadata": {},
          "execution_count": 30
        }
      ]
    },
    {
      "cell_type": "code",
      "source": [
        "list[1]"
      ],
      "metadata": {
        "colab": {
          "base_uri": "https://localhost:8080/"
        },
        "id": "CFz0lAgEsiz6",
        "outputId": "bbcdb407-2a80-4658-8d4a-a96f24332ab2"
      },
      "execution_count": 31,
      "outputs": [
        {
          "output_type": "execute_result",
          "data": {
            "text/plain": [
              "1.22"
            ]
          },
          "metadata": {},
          "execution_count": 31
        }
      ]
    },
    {
      "cell_type": "code",
      "source": [
        "#above the accesing the elements through index"
      ],
      "metadata": {
        "id": "pxMnK5GesnFe"
      },
      "execution_count": null,
      "outputs": []
    },
    {
      "cell_type": "code",
      "source": [
        "#slicing"
      ],
      "metadata": {
        "id": "wtTRwUQVsxCj"
      },
      "execution_count": 32,
      "outputs": []
    },
    {
      "cell_type": "code",
      "source": [
        "list[1:2]"
      ],
      "metadata": {
        "colab": {
          "base_uri": "https://localhost:8080/"
        },
        "id": "GOmcRC2xs0bZ",
        "outputId": "61bc7709-047f-4084-87d9-c16b65ba01c9"
      },
      "execution_count": 33,
      "outputs": [
        {
          "output_type": "execute_result",
          "data": {
            "text/plain": [
              "[1.22]"
            ]
          },
          "metadata": {},
          "execution_count": 33
        }
      ]
    },
    {
      "cell_type": "code",
      "source": [
        "list[-1]"
      ],
      "metadata": {
        "colab": {
          "base_uri": "https://localhost:8080/"
        },
        "id": "o_qRSqN5s3DX",
        "outputId": "4ac9d99f-ba0d-49f4-c884-ace8352f2d7e"
      },
      "execution_count": 34,
      "outputs": [
        {
          "output_type": "execute_result",
          "data": {
            "text/plain": [
              "2.04"
            ]
          },
          "metadata": {},
          "execution_count": 34
        }
      ]
    },
    {
      "cell_type": "code",
      "source": [
        "# revering the list"
      ],
      "metadata": {
        "id": "URPfKUSKs9XE"
      },
      "execution_count": 35,
      "outputs": []
    },
    {
      "cell_type": "code",
      "source": [
        "list[::-1]"
      ],
      "metadata": {
        "colab": {
          "base_uri": "https://localhost:8080/"
        },
        "id": "KJKB2iq8tIlo",
        "outputId": "916dfa32-12aa-4435-ee38-ca9c7f72ae30"
      },
      "execution_count": 36,
      "outputs": [
        {
          "output_type": "execute_result",
          "data": {
            "text/plain": [
              "[2.04, 1.22, 'earth']"
            ]
          },
          "metadata": {},
          "execution_count": 36
        }
      ]
    },
    {
      "cell_type": "markdown",
      "source": [
        "#Tuple"
      ],
      "metadata": {
        "id": "BUrF_GnutNP3"
      }
    },
    {
      "cell_type": "code",
      "source": [
        "tup=('red',1)\n",
        "tup"
      ],
      "metadata": {
        "colab": {
          "base_uri": "https://localhost:8080/"
        },
        "id": "sy57FhFBtLFt",
        "outputId": "ce073149-48e3-4ed5-dd25-4bf2793c79ee"
      },
      "execution_count": 37,
      "outputs": [
        {
          "output_type": "execute_result",
          "data": {
            "text/plain": [
              "('red', 1)"
            ]
          },
          "metadata": {},
          "execution_count": 37
        }
      ]
    },
    {
      "cell_type": "code",
      "source": [
        "tup[1]"
      ],
      "metadata": {
        "colab": {
          "base_uri": "https://localhost:8080/"
        },
        "id": "DCH-m-FXtY7g",
        "outputId": "568eb502-6233-4eea-cee7-2e1a05f8c0c1"
      },
      "execution_count": 39,
      "outputs": [
        {
          "output_type": "execute_result",
          "data": {
            "text/plain": [
              "1"
            ]
          },
          "metadata": {},
          "execution_count": 39
        }
      ]
    },
    {
      "cell_type": "code",
      "source": [
        "print(tup[1:])"
      ],
      "metadata": {
        "colab": {
          "base_uri": "https://localhost:8080/"
        },
        "id": "uaAbqDXBtdPo",
        "outputId": "c05f4c5e-ca68-4c10-8bde-dd23da6b3bec"
      },
      "execution_count": 40,
      "outputs": [
        {
          "output_type": "stream",
          "name": "stdout",
          "text": [
            "(1,)\n"
          ]
        }
      ]
    },
    {
      "cell_type": "code",
      "source": [
        "del tup"
      ],
      "metadata": {
        "id": "wJhKiBdrtwVr"
      },
      "execution_count": 41,
      "outputs": []
    },
    {
      "cell_type": "code",
      "source": [
        "tup"
      ],
      "metadata": {
        "colab": {
          "base_uri": "https://localhost:8080/",
          "height": 141
        },
        "id": "J4CCMDT5tz3p",
        "outputId": "ff0e985b-3668-4c0b-e1e3-8b416c1974c8"
      },
      "execution_count": 42,
      "outputs": [
        {
          "output_type": "error",
          "ename": "NameError",
          "evalue": "name 'tup' is not defined",
          "traceback": [
            "\u001b[0;31m---------------------------------------------------------------------------\u001b[0m",
            "\u001b[0;31mNameError\u001b[0m                                 Traceback (most recent call last)",
            "\u001b[0;32m<ipython-input-42-95b80b2375ef>\u001b[0m in \u001b[0;36m<cell line: 1>\u001b[0;34m()\u001b[0m\n\u001b[0;32m----> 1\u001b[0;31m \u001b[0mtup\u001b[0m\u001b[0;34m\u001b[0m\u001b[0;34m\u001b[0m\u001b[0m\n\u001b[0m",
            "\u001b[0;31mNameError\u001b[0m: name 'tup' is not defined"
          ]
        }
      ]
    },
    {
      "cell_type": "markdown",
      "source": [
        "#Set"
      ],
      "metadata": {
        "id": "3mpgaDkauUb9"
      }
    },
    {
      "cell_type": "code",
      "source": [
        "a={2,29,101,33,0,1}\n",
        "a"
      ],
      "metadata": {
        "colab": {
          "base_uri": "https://localhost:8080/"
        },
        "id": "kgF-aQO3t1nW",
        "outputId": "05ac5376-8db6-46ea-f652-8d95a5c52f76"
      },
      "execution_count": 43,
      "outputs": [
        {
          "output_type": "execute_result",
          "data": {
            "text/plain": [
              "{0, 1, 2, 29, 33, 101}"
            ]
          },
          "metadata": {},
          "execution_count": 43
        }
      ]
    },
    {
      "cell_type": "code",
      "source": [
        "a.add(10000)"
      ],
      "metadata": {
        "id": "4Hch_7uUucpB"
      },
      "execution_count": 45,
      "outputs": []
    },
    {
      "cell_type": "code",
      "source": [
        "a"
      ],
      "metadata": {
        "colab": {
          "base_uri": "https://localhost:8080/"
        },
        "id": "awtW0TgpukRp",
        "outputId": "34b30e2a-a283-4a59-c71f-43530f2aba8a"
      },
      "execution_count": 46,
      "outputs": [
        {
          "output_type": "execute_result",
          "data": {
            "text/plain": [
              "{0, 1, 2, 29, 33, 101, 10000}"
            ]
          },
          "metadata": {},
          "execution_count": 46
        }
      ]
    },
    {
      "cell_type": "markdown",
      "source": [
        "#Dictionary"
      ],
      "metadata": {
        "id": "dNeeTye7u7OQ"
      }
    },
    {
      "cell_type": "code",
      "source": [
        "a={'name':\"manoj\",'rollno':5}\n",
        "a"
      ],
      "metadata": {
        "colab": {
          "base_uri": "https://localhost:8080/"
        },
        "id": "5ZJwynXQuo4w",
        "outputId": "91a5eb8d-eb96-436a-d1b2-46ad0350cb44"
      },
      "execution_count": 47,
      "outputs": [
        {
          "output_type": "execute_result",
          "data": {
            "text/plain": [
              "{'name': 'manoj', 'rollno': 5}"
            ]
          },
          "metadata": {},
          "execution_count": 47
        }
      ]
    },
    {
      "cell_type": "code",
      "source": [
        "a.keys()"
      ],
      "metadata": {
        "colab": {
          "base_uri": "https://localhost:8080/"
        },
        "id": "kt6GuhzZvRiZ",
        "outputId": "f35cf8b6-f985-4ac5-8475-6c96027f9ab2"
      },
      "execution_count": 48,
      "outputs": [
        {
          "output_type": "execute_result",
          "data": {
            "text/plain": [
              "dict_keys(['name', 'rollno'])"
            ]
          },
          "metadata": {},
          "execution_count": 48
        }
      ]
    },
    {
      "cell_type": "code",
      "source": [
        "a.values()"
      ],
      "metadata": {
        "colab": {
          "base_uri": "https://localhost:8080/"
        },
        "id": "XNNZou-0vY4n",
        "outputId": "7f0244db-e907-410f-d548-8311394b91dd"
      },
      "execution_count": 49,
      "outputs": [
        {
          "output_type": "execute_result",
          "data": {
            "text/plain": [
              "dict_values(['manoj', 5])"
            ]
          },
          "metadata": {},
          "execution_count": 49
        }
      ]
    },
    {
      "cell_type": "code",
      "source": [
        "a['rollno']=10\n",
        "#update"
      ],
      "metadata": {
        "id": "CHkt9E_ivWjh"
      },
      "execution_count": 50,
      "outputs": []
    },
    {
      "cell_type": "code",
      "source": [
        "a"
      ],
      "metadata": {
        "colab": {
          "base_uri": "https://localhost:8080/"
        },
        "id": "lkur4cnOvo5B",
        "outputId": "45c75c9e-8983-462f-c48d-de2b8a8101ca"
      },
      "execution_count": 51,
      "outputs": [
        {
          "output_type": "execute_result",
          "data": {
            "text/plain": [
              "{'name': 'manoj', 'rollno': 10}"
            ]
          },
          "metadata": {},
          "execution_count": 51
        }
      ]
    },
    {
      "cell_type": "code",
      "source": [
        "a.items()"
      ],
      "metadata": {
        "colab": {
          "base_uri": "https://localhost:8080/"
        },
        "id": "1e6kAwH1vpX3",
        "outputId": "471aa8ce-63c7-4795-d9e2-f022deab3231"
      },
      "execution_count": 52,
      "outputs": [
        {
          "output_type": "execute_result",
          "data": {
            "text/plain": [
              "dict_items([('name', 'manoj'), ('rollno', 10)])"
            ]
          },
          "metadata": {},
          "execution_count": 52
        }
      ]
    },
    {
      "cell_type": "markdown",
      "source": [
        "#Statements"
      ],
      "metadata": {
        "id": "SasqEbF_v3kI"
      }
    },
    {
      "cell_type": "code",
      "source": [
        "if 10>5:\n",
        "  print(10)"
      ],
      "metadata": {
        "colab": {
          "base_uri": "https://localhost:8080/"
        },
        "id": "9zSmi_sNvuAN",
        "outputId": "e7f06747-484a-4408-8e44-1720255283f5"
      },
      "execution_count": 53,
      "outputs": [
        {
          "output_type": "stream",
          "name": "stdout",
          "text": [
            "10\n"
          ]
        }
      ]
    },
    {
      "cell_type": "code",
      "source": [
        "if 10>99:\n",
        "  print(10)\n",
        "else:\n",
        "  print(99)"
      ],
      "metadata": {
        "colab": {
          "base_uri": "https://localhost:8080/"
        },
        "id": "XHqjIK8UwAex",
        "outputId": "11c561cf-10f8-4df8-dff5-fb5baa26b0fe"
      },
      "execution_count": 54,
      "outputs": [
        {
          "output_type": "stream",
          "name": "stdout",
          "text": [
            "99\n"
          ]
        }
      ]
    },
    {
      "cell_type": "code",
      "source": [
        "if 10>44:\n",
        "  print(10)\n",
        "elif 44>10:\n",
        "  print(44)\n",
        "else:\n",
        "  print(\"hi\")"
      ],
      "metadata": {
        "colab": {
          "base_uri": "https://localhost:8080/"
        },
        "id": "s5XxTbWFwKkA",
        "outputId": "a1b339dc-f0a7-4e5b-f6b1-ed4ab4536224"
      },
      "execution_count": 56,
      "outputs": [
        {
          "output_type": "stream",
          "name": "stdout",
          "text": [
            "44\n"
          ]
        }
      ]
    },
    {
      "cell_type": "code",
      "source": [
        "a=int(input(\"enter a nuber:\"))\n",
        "if a>5:\n",
        "  print(a)"
      ],
      "metadata": {
        "colab": {
          "base_uri": "https://localhost:8080/"
        },
        "id": "-8GdgukHwW6c",
        "outputId": "f4d31517-45c2-4114-8bbd-435f2aa07dd2"
      },
      "execution_count": 57,
      "outputs": [
        {
          "output_type": "stream",
          "name": "stdout",
          "text": [
            "enter a nuber:100\n",
            "100\n"
          ]
        }
      ]
    },
    {
      "cell_type": "markdown",
      "source": [
        "#Loop"
      ],
      "metadata": {
        "id": "-4PlgvGnxHU6"
      }
    },
    {
      "cell_type": "code",
      "source": [
        "#for loop\n",
        "s=0\n",
        "for i in range(1,5,1):\n",
        "  s=s+i\n",
        "print(s)"
      ],
      "metadata": {
        "colab": {
          "base_uri": "https://localhost:8080/"
        },
        "id": "UhxH23YBw6-U",
        "outputId": "46e6cab7-8fd9-486b-89d7-06cb157a1380"
      },
      "execution_count": 59,
      "outputs": [
        {
          "output_type": "stream",
          "name": "stdout",
          "text": [
            "10\n"
          ]
        }
      ]
    },
    {
      "cell_type": "code",
      "source": [
        "#while loop\n",
        "s=0\n",
        "i=0\n",
        "while(i<5):\n",
        "  s=s+i\n",
        "  i=i+1\n",
        "print(s)"
      ],
      "metadata": {
        "colab": {
          "base_uri": "https://localhost:8080/"
        },
        "id": "bllfpOxlxnNS",
        "outputId": "8f3ec361-1237-4d43-b4d1-e54e44202bd9"
      },
      "execution_count": 67,
      "outputs": [
        {
          "output_type": "stream",
          "name": "stdout",
          "text": [
            "10\n"
          ]
        }
      ]
    },
    {
      "cell_type": "code",
      "source": [],
      "metadata": {
        "id": "eMtO-9gByNCL"
      },
      "execution_count": null,
      "outputs": []
    }
  ]
}